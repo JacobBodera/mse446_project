{
 "cells": [
  {
   "cell_type": "code",
   "execution_count": 19,
   "id": "6a3cab5f-d381-4faa-ab6c-b1cc01739bda",
   "metadata": {},
   "outputs": [],
   "source": [
    "import pandas as pd\n",
    "import numpy as np\n",
    "import matplotlib.pyplot as plt\n",
    "from sklearn.preprocessing import OrdinalEncoder, OneHotEncoder\n",
    "from sklearn.model_selection import cross_val_score, GridSearchCV\n",
    "from sklearn.tree import DecisionTreeClassifier\n",
    "from sklearn.ensemble import RandomForestClassifier, BaggingClassifier, AdaBoostClassifier"
   ]
  },
  {
   "cell_type": "code",
   "execution_count": 3,
   "id": "117758e2-ef04-46c0-9012-c1fb2349bc66",
   "metadata": {},
   "outputs": [
    {
     "data": {
      "text/plain": [
       "(3025, 23)"
      ]
     },
     "metadata": {},
     "output_type": "display_data"
    },
    {
     "data": {
      "text/html": [
       "<div>\n",
       "<style scoped>\n",
       "    .dataframe tbody tr th:only-of-type {\n",
       "        vertical-align: middle;\n",
       "    }\n",
       "\n",
       "    .dataframe tbody tr th {\n",
       "        vertical-align: top;\n",
       "    }\n",
       "\n",
       "    .dataframe thead th {\n",
       "        text-align: right;\n",
       "    }\n",
       "</style>\n",
       "<table border=\"1\" class=\"dataframe\">\n",
       "  <thead>\n",
       "    <tr style=\"text-align: right;\">\n",
       "      <th></th>\n",
       "      <th>EmpID</th>\n",
       "      <th>Gender</th>\n",
       "      <th>Age</th>\n",
       "      <th>MaritalStatus</th>\n",
       "      <th>JobLevel</th>\n",
       "      <th>Experience</th>\n",
       "      <th>Dept</th>\n",
       "      <th>EmpType</th>\n",
       "      <th>WLB</th>\n",
       "      <th>WorkEnv</th>\n",
       "      <th>...</th>\n",
       "      <th>SleepHours</th>\n",
       "      <th>CommuteMode</th>\n",
       "      <th>CommuteDistance</th>\n",
       "      <th>NumCompanies</th>\n",
       "      <th>TeamSize</th>\n",
       "      <th>NumReports</th>\n",
       "      <th>EduLevel</th>\n",
       "      <th>haveOT</th>\n",
       "      <th>TrainingHoursPerYear</th>\n",
       "      <th>JobSatisfaction</th>\n",
       "    </tr>\n",
       "  </thead>\n",
       "  <tbody>\n",
       "    <tr>\n",
       "      <th>0</th>\n",
       "      <td>6</td>\n",
       "      <td>Male</td>\n",
       "      <td>32</td>\n",
       "      <td>Married</td>\n",
       "      <td>Mid</td>\n",
       "      <td>7</td>\n",
       "      <td>IT</td>\n",
       "      <td>Full-Time</td>\n",
       "      <td>1</td>\n",
       "      <td>1</td>\n",
       "      <td>...</td>\n",
       "      <td>7.6</td>\n",
       "      <td>Car</td>\n",
       "      <td>20</td>\n",
       "      <td>3</td>\n",
       "      <td>12</td>\n",
       "      <td>0</td>\n",
       "      <td>Bachelor</td>\n",
       "      <td>True</td>\n",
       "      <td>33.5</td>\n",
       "      <td>5</td>\n",
       "    </tr>\n",
       "    <tr>\n",
       "      <th>1</th>\n",
       "      <td>11</td>\n",
       "      <td>Female</td>\n",
       "      <td>34</td>\n",
       "      <td>Married</td>\n",
       "      <td>Mid</td>\n",
       "      <td>12</td>\n",
       "      <td>Finance</td>\n",
       "      <td>Full-Time</td>\n",
       "      <td>1</td>\n",
       "      <td>1</td>\n",
       "      <td>...</td>\n",
       "      <td>7.9</td>\n",
       "      <td>Car</td>\n",
       "      <td>15</td>\n",
       "      <td>4</td>\n",
       "      <td>11</td>\n",
       "      <td>0</td>\n",
       "      <td>Bachelor</td>\n",
       "      <td>False</td>\n",
       "      <td>36.0</td>\n",
       "      <td>5</td>\n",
       "    </tr>\n",
       "    <tr>\n",
       "      <th>2</th>\n",
       "      <td>33</td>\n",
       "      <td>Female</td>\n",
       "      <td>23</td>\n",
       "      <td>Single</td>\n",
       "      <td>Intern/Fresher</td>\n",
       "      <td>1</td>\n",
       "      <td>Marketing</td>\n",
       "      <td>Full-Time</td>\n",
       "      <td>2</td>\n",
       "      <td>4</td>\n",
       "      <td>...</td>\n",
       "      <td>6.5</td>\n",
       "      <td>Motorbike</td>\n",
       "      <td>17</td>\n",
       "      <td>0</td>\n",
       "      <td>30</td>\n",
       "      <td>0</td>\n",
       "      <td>Bachelor</td>\n",
       "      <td>True</td>\n",
       "      <td>10.5</td>\n",
       "      <td>5</td>\n",
       "    </tr>\n",
       "    <tr>\n",
       "      <th>3</th>\n",
       "      <td>20</td>\n",
       "      <td>Female</td>\n",
       "      <td>29</td>\n",
       "      <td>Married</td>\n",
       "      <td>Junior</td>\n",
       "      <td>6</td>\n",
       "      <td>IT</td>\n",
       "      <td>Contract</td>\n",
       "      <td>2</td>\n",
       "      <td>2</td>\n",
       "      <td>...</td>\n",
       "      <td>7.5</td>\n",
       "      <td>Public Transport</td>\n",
       "      <td>13</td>\n",
       "      <td>2</td>\n",
       "      <td>9</td>\n",
       "      <td>0</td>\n",
       "      <td>Bachelor</td>\n",
       "      <td>True</td>\n",
       "      <td>23.0</td>\n",
       "      <td>5</td>\n",
       "    </tr>\n",
       "    <tr>\n",
       "      <th>4</th>\n",
       "      <td>28</td>\n",
       "      <td>Other</td>\n",
       "      <td>23</td>\n",
       "      <td>Single</td>\n",
       "      <td>Junior</td>\n",
       "      <td>1</td>\n",
       "      <td>Sales</td>\n",
       "      <td>Part-Time</td>\n",
       "      <td>3</td>\n",
       "      <td>1</td>\n",
       "      <td>...</td>\n",
       "      <td>4.9</td>\n",
       "      <td>Car</td>\n",
       "      <td>20</td>\n",
       "      <td>0</td>\n",
       "      <td>7</td>\n",
       "      <td>0</td>\n",
       "      <td>Bachelor</td>\n",
       "      <td>False</td>\n",
       "      <td>20.5</td>\n",
       "      <td>5</td>\n",
       "    </tr>\n",
       "  </tbody>\n",
       "</table>\n",
       "<p>5 rows × 23 columns</p>\n",
       "</div>"
      ],
      "text/plain": [
       "   EmpID  Gender  Age MaritalStatus        JobLevel  Experience       Dept  \\\n",
       "0      6    Male   32       Married             Mid           7         IT   \n",
       "1     11  Female   34       Married             Mid          12    Finance   \n",
       "2     33  Female   23        Single  Intern/Fresher           1  Marketing   \n",
       "3     20  Female   29       Married          Junior           6         IT   \n",
       "4     28   Other   23        Single          Junior           1      Sales   \n",
       "\n",
       "     EmpType  WLB  WorkEnv  ...  SleepHours       CommuteMode  \\\n",
       "0  Full-Time    1        1  ...         7.6               Car   \n",
       "1  Full-Time    1        1  ...         7.9               Car   \n",
       "2  Full-Time    2        4  ...         6.5         Motorbike   \n",
       "3   Contract    2        2  ...         7.5  Public Transport   \n",
       "4  Part-Time    3        1  ...         4.9               Car   \n",
       "\n",
       "   CommuteDistance  NumCompanies TeamSize  NumReports  EduLevel  haveOT  \\\n",
       "0               20             3       12           0  Bachelor    True   \n",
       "1               15             4       11           0  Bachelor   False   \n",
       "2               17             0       30           0  Bachelor    True   \n",
       "3               13             2        9           0  Bachelor    True   \n",
       "4               20             0        7           0  Bachelor   False   \n",
       "\n",
       "   TrainingHoursPerYear JobSatisfaction  \n",
       "0                  33.5               5  \n",
       "1                  36.0               5  \n",
       "2                  10.5               5  \n",
       "3                  23.0               5  \n",
       "4                  20.5               5  \n",
       "\n",
       "[5 rows x 23 columns]"
      ]
     },
     "metadata": {},
     "output_type": "display_data"
    },
    {
     "name": "stdout",
     "output_type": "stream",
     "text": [
      "<class 'pandas.core.frame.DataFrame'>\n",
      "RangeIndex: 3025 entries, 0 to 3024\n",
      "Data columns (total 23 columns):\n",
      " #   Column                 Non-Null Count  Dtype  \n",
      "---  ------                 --------------  -----  \n",
      " 0   EmpID                  3025 non-null   int64  \n",
      " 1   Gender                 3025 non-null   object \n",
      " 2   Age                    3025 non-null   int64  \n",
      " 3   MaritalStatus          3025 non-null   object \n",
      " 4   JobLevel               3025 non-null   object \n",
      " 5   Experience             3025 non-null   int64  \n",
      " 6   Dept                   3025 non-null   object \n",
      " 7   EmpType                3025 non-null   object \n",
      " 8   WLB                    3025 non-null   int64  \n",
      " 9   WorkEnv                3025 non-null   int64  \n",
      " 10  PhysicalActivityHours  3025 non-null   float64\n",
      " 11  Workload               3025 non-null   int64  \n",
      " 12  Stress                 3025 non-null   int64  \n",
      " 13  SleepHours             3025 non-null   float64\n",
      " 14  CommuteMode            3025 non-null   object \n",
      " 15  CommuteDistance        3025 non-null   int64  \n",
      " 16  NumCompanies           3025 non-null   int64  \n",
      " 17  TeamSize               3025 non-null   int64  \n",
      " 18  NumReports             3025 non-null   int64  \n",
      " 19  EduLevel               3025 non-null   object \n",
      " 20  haveOT                 3025 non-null   bool   \n",
      " 21  TrainingHoursPerYear   3025 non-null   float64\n",
      " 22  JobSatisfaction        3025 non-null   int64  \n",
      "dtypes: bool(1), float64(3), int64(12), object(7)\n",
      "memory usage: 523.0+ KB\n"
     ]
    },
    {
     "data": {
      "text/plain": [
       "None"
      ]
     },
     "metadata": {},
     "output_type": "display_data"
    }
   ],
   "source": [
    "df = pd.read_csv(\"employee_survey.csv\")\n",
    "display(df.shape)\n",
    "display(df.head())\n",
    "display(df.info())"
   ]
  },
  {
   "cell_type": "code",
   "execution_count": 4,
   "id": "432a9165-265c-470f-9e28-ec44906fdd2e",
   "metadata": {},
   "outputs": [
    {
     "name": "stdout",
     "output_type": "stream",
     "text": [
      "Unique values in Gender:\n",
      "['Male' 'Female' 'Other']\n",
      "\n",
      "\n",
      "Unique values in MaritalStatus:\n",
      "['Married' 'Single' 'Divorced' 'Widowed']\n",
      "\n",
      "\n",
      "Unique values in JobLevel:\n",
      "['Mid' 'Intern/Fresher' 'Junior' 'Senior' 'Lead']\n",
      "\n",
      "\n",
      "Unique values in Dept:\n",
      "['IT' 'Finance' 'Marketing' 'Sales' 'Operations' 'Customer Service'\n",
      " 'Legal' 'HR']\n",
      "\n",
      "\n",
      "Unique values in EmpType:\n",
      "['Full-Time' 'Contract' 'Part-Time']\n",
      "\n",
      "\n",
      "Unique values in CommuteMode:\n",
      "['Car' 'Motorbike' 'Public Transport' 'Bike' 'Walk']\n",
      "\n",
      "\n",
      "Unique values in EduLevel:\n",
      "['Bachelor' 'High School' 'Master' 'PhD']\n",
      "\n",
      "\n"
     ]
    }
   ],
   "source": [
    "categorical_columns = df.select_dtypes(include=['object', 'category']).columns\n",
    "for col in categorical_columns:\n",
    "    print(f\"Unique values in {col}:\")\n",
    "    print(df[col].unique())\n",
    "    print(\"\\n\")"
   ]
  },
  {
   "cell_type": "code",
   "execution_count": 5,
   "id": "d27d647a-dd65-4be8-8cc6-bf6022a70e36",
   "metadata": {},
   "outputs": [
    {
     "data": {
      "text/plain": [
       "JobLevel\n",
       "Senior            1069\n",
       "Mid                766\n",
       "Junior             602\n",
       "Lead               386\n",
       "Intern/Fresher     202\n",
       "Name: count, dtype: int64"
      ]
     },
     "metadata": {},
     "output_type": "display_data"
    },
    {
     "data": {
      "text/plain": [
       "EduLevel\n",
       "Bachelor       2300\n",
       "Master          380\n",
       "High School     245\n",
       "PhD             100\n",
       "Name: count, dtype: int64"
      ]
     },
     "metadata": {},
     "output_type": "display_data"
    }
   ],
   "source": [
    "display(df['JobLevel'].value_counts())\n",
    "display(df['EduLevel'].value_counts())"
   ]
  },
  {
   "cell_type": "markdown",
   "id": "179a4ea6-9f88-4993-97c3-ce162f6bd37f",
   "metadata": {},
   "source": [
    "## Pre-processing"
   ]
  },
  {
   "cell_type": "code",
   "execution_count": 6,
   "id": "b7bed74a-e1e7-4878-8865-5ea26fe1e1e0",
   "metadata": {},
   "outputs": [],
   "source": [
    "df.drop(columns=['EmpID'], inplace=True) "
   ]
  },
  {
   "cell_type": "code",
   "execution_count": 7,
   "id": "c0e7f573-6bf4-4c0a-927b-bcb5ab3345d6",
   "metadata": {},
   "outputs": [],
   "source": [
    "ordinal_features = ['EduLevel', 'JobLevel']\n",
    "nominal_features = ['Gender', 'MaritalStatus', 'Dept', 'EmpType', 'CommuteMode']\n",
    "\n",
    "# Feature values for Ordinal Encoding\n",
    "edu_levels = ['High School', 'Bachelor', 'Master', 'PhD']\n",
    "job_levels = ['Intern/Fresher', 'Junior', 'Mid', 'Senior', 'Lead']\n",
    "\n",
    "ordinal_mappings = [edu_levels, job_levels]\n",
    "\n",
    "ordinal_encoder = OrdinalEncoder(categories=ordinal_mappings)\n",
    "df[ordinal_features] = ordinal_encoder.fit_transform(df[ordinal_features])\n",
    "\n",
    "# Encode nominal features\n",
    "df = pd.get_dummies(df, columns=nominal_features, drop_first=True)\n",
    "\n",
    "# Convert boolean to int\n",
    "df['haveOT'] = df['haveOT'].astype(int)\n",
    "\n",
    "# Input variables\n",
    "X = df.drop(columns=['JobSatisfaction'])\n",
    "\n",
    "# Target variables\n",
    "y = df['JobSatisfaction']\n",
    "y = np.ravel(y)"
   ]
  },
  {
   "cell_type": "markdown",
   "id": "ca66cbc7-3a1c-4b37-a808-0d5d06ee9cd2",
   "metadata": {},
   "source": [
    "## Decision Trees"
   ]
  },
  {
   "cell_type": "code",
   "execution_count": 8,
   "id": "f61ea91e-2252-4717-8b0c-89df7baa4ec3",
   "metadata": {},
   "outputs": [
    {
     "name": "stdout",
     "output_type": "stream",
     "text": [
      "Best params: {'max_depth': 6, 'min_samples_leaf': 2, 'min_samples_split': 8}\n",
      "Best Accuracy: 0.4416528925619835\n"
     ]
    }
   ],
   "source": [
    "# Test depths\n",
    "param_grid_dt = {\n",
    "    'max_depth': range(1, 11),\n",
    "    'min_samples_split': range(2, 10),\n",
    "    'min_samples_leaf': range(1, 10)\n",
    "}\n",
    "cv_scores = []\n",
    "\n",
    "# 5-fold CV to get depth resulting in best average accuracy\n",
    "grid_search_dt = GridSearchCV(DecisionTreeClassifier(random_state=42), param_grid_dt, cv=5, scoring='accuracy')\n",
    "grid_search_dt.fit(X, y)\n",
    "print(f'Best params: {grid_search_dt.best_params_}')\n",
    "print(f'Best Accuracy: {grid_search_dt.best_score_}')"
   ]
  },
  {
   "cell_type": "code",
   "execution_count": 16,
   "id": "ab189bca-3a16-496f-80c8-bb1807ebbf71",
   "metadata": {},
   "outputs": [],
   "source": [
    "MAX_DEPTH_DT = grid_search_dt.best_params_['max_depth']\n",
    "MIN_SPLIT_DT = grid_search_dt.best_params_['min_samples_split']\n",
    "MIN_LEAF_DT = grid_search_dt.best_params_['min_samples_leaf']"
   ]
  },
  {
   "cell_type": "markdown",
   "id": "f324b986-876d-40ef-84b5-f50624da07ac",
   "metadata": {},
   "source": [
    "## Random Forest"
   ]
  },
  {
   "cell_type": "code",
   "execution_count": 10,
   "id": "066c4984-7178-409b-ab2f-f0c247b56dad",
   "metadata": {},
   "outputs": [
    {
     "name": "stdout",
     "output_type": "stream",
     "text": [
      "Fitting 5 folds for each of 5040 candidates, totalling 25200 fits\n",
      "Best Parameters for Random Forest: {'max_depth': 13, 'min_samples_leaf': 2, 'min_samples_split': 7, 'n_estimators': 50}\n",
      "Best accuracy:  0.4690909090909091\n"
     ]
    }
   ],
   "source": [
    "# Define the parameter grid\n",
    "param_grid_rf = {\n",
    "    'n_estimators': [50, 100, 200, 300],  # Number of trees in the forest\n",
    "    'max_depth': range(1, 15),  # Tree depth\n",
    "    'min_samples_split': range(2, 11),  # Minimum samples to split a node\n",
    "    'min_samples_leaf': range(1, 11)  # Minimum samples at a leaf node\n",
    "}\n",
    "\n",
    "# Initialize RandomForestClassifier\n",
    "rf_model = RandomForestClassifier(random_state=42)\n",
    "\n",
    "# Perform Grid Search with 5-Fold CV\n",
    "grid_search_rf = GridSearchCV(rf_model, param_grid_rf, cv=5, scoring='accuracy', n_jobs=-1, verbose=1)\n",
    "grid_search_rf.fit(X, y)\n",
    "\n",
    "# Best hyperparameters\n",
    "best_params_rf = grid_search_rf.best_params_\n",
    "print(\"Best Parameters for Random Forest:\", best_params_rf)\n",
    "print(\"Best accuracy: \", grid_search_rf.best_score_)"
   ]
  },
  {
   "cell_type": "code",
   "execution_count": 17,
   "id": "309a51e6-bcdf-4cc3-a4ab-8ec6ce0c6b90",
   "metadata": {},
   "outputs": [],
   "source": [
    "N_EST = grid_search_rf.best_params_['n_estimators']\n",
    "MAX_DEPTH_RF = grid_search_rf.best_params_['max_depth']\n",
    "MIN_SPLIT_RF = grid_search_rf.best_params_['min_samples_split']\n",
    "MIN_LEAF_RF = grid_search_rf.best_params_['min_samples_leaf']"
   ]
  },
  {
   "cell_type": "markdown",
   "id": "5c497e8f-31eb-4bd1-af21-6104098728c0",
   "metadata": {},
   "source": [
    "## Bagging"
   ]
  },
  {
   "cell_type": "code",
   "execution_count": 22,
   "id": "0b9995a3-2800-4a49-b52a-6cceac3579d0",
   "metadata": {},
   "outputs": [
    {
     "name": "stdout",
     "output_type": "stream",
     "text": [
      "Fitting 5 folds for each of 36 candidates, totalling 180 fits\n",
      "Best Parameters for Bagging: {'max_features': 1.0, 'max_samples': 1.0, 'n_estimators': 50}\n",
      "Best accuracy (Bagging): 0.45685950413223136\n"
     ]
    }
   ],
   "source": [
    "base_rf = RandomForestClassifier(\n",
    "    max_depth=MAX_DEPTH_RF,\n",
    "    min_samples_split=MIN_SPLIT_RF,\n",
    "    min_samples_leaf=MIN_LEAF_RF,\n",
    "    n_estimators=N_EST,\n",
    "    random_state=42\n",
    ")\n",
    "\n",
    "param_grid_bagging = {\n",
    "    'n_estimators': [50, 100, 200, 300],  # Number of base learners\n",
    "    'max_samples': [0.5, 0.7, 1.0],  # Fraction of dataset used for each base learner\n",
    "    'max_features': [0.5, 0.7, 1.0]  # Fraction of features used for each base learner\n",
    "}\n",
    "\n",
    "bagging_model = BaggingClassifier(estimator=base_rf, random_state=42)\n",
    "grid_search_bagging = GridSearchCV(bagging_model, param_grid_bagging, cv=5, scoring='accuracy', n_jobs=-1, verbose=1)\n",
    "grid_search_bagging.fit(X, y)\n",
    "print(\"Best Parameters for Bagging:\", grid_search_bagging.best_params_)\n",
    "print(\"Best accuracy (Bagging):\", grid_search_bagging.best_score_)"
   ]
  },
  {
   "cell_type": "code",
   "execution_count": 26,
   "id": "2fbf2f4f-d8fe-4e61-8740-561ef00e52ac",
   "metadata": {},
   "outputs": [
    {
     "name": "stdout",
     "output_type": "stream",
     "text": [
      "Fitting 5 folds for each of 16 candidates, totalling 80 fits\n",
      "Best Parameters for Boosting: {'learning_rate': 0.1, 'n_estimators': 300}\n",
      "Best accuracy (Boosting): 0.48\n"
     ]
    }
   ],
   "source": [
    "base_dt = DecisionTreeClassifier(\n",
    "    max_depth=MAX_DEPTH_DT,\n",
    "    min_samples_split=MIN_SPLIT_DT,\n",
    "    min_samples_leaf=MIN_LEAF_DT,\n",
    "    random_state=42\n",
    ")\n",
    "\n",
    "param_grid_boosting = {\n",
    "    'n_estimators': [50, 100, 200, 300],\n",
    "    'learning_rate': [0.01, 0.1, 0.5, 1.0]\n",
    "}\n",
    "boosting_model = AdaBoostClassifier(estimator=base_dt, random_state=42, algorithm='SAMME')\n",
    "grid_search_boosting = GridSearchCV(boosting_model, param_grid_boosting, cv=5, scoring='accuracy', n_jobs=-1, verbose=1)\n",
    "grid_search_boosting.fit(X, y)\n",
    "print(\"Best Parameters for Boosting:\", grid_search_boosting.best_params_)\n",
    "print(\"Best accuracy (Boosting):\", grid_search_boosting.best_score_)"
   ]
  }
 ],
 "metadata": {
  "kernelspec": {
   "display_name": "Python [conda env:MSE446]",
   "language": "python",
   "name": "conda-env-MSE446-py"
  },
  "language_info": {
   "codemirror_mode": {
    "name": "ipython",
    "version": 3
   },
   "file_extension": ".py",
   "mimetype": "text/x-python",
   "name": "python",
   "nbconvert_exporter": "python",
   "pygments_lexer": "ipython3",
   "version": "3.12.8"
  }
 },
 "nbformat": 4,
 "nbformat_minor": 5
}
