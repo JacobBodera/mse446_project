{
 "cells": [
  {
   "cell_type": "code",
   "execution_count": 86,
   "metadata": {},
   "outputs": [],
   "source": [
    "# Importing Necessary Libraries\n",
    "import pandas as pd\n",
    "import numpy as np\n",
    "import itertools\n",
    "from sklearn.linear_model import Lasso\n",
    "from sklearn.model_selection import train_test_split, GridSearchCV, StratifiedKFold\n",
    "import matplotlib.pyplot as plt\n",
    "from sklearn.preprocessing import OrdinalEncoder, StandardScaler\n",
    "from sklearn.neighbors import KNeighborsClassifier\n",
    "from sklearn.metrics import accuracy_score, classification_report, confusion_matrix\n",
    "\n",
    "pd.set_option('display.max_columns', None)"
   ]
  },
  {
   "cell_type": "code",
   "execution_count": 87,
   "metadata": {},
   "outputs": [],
   "source": [
    "# Load data and preprocess\n",
    "df = pd.read_csv(\"..\\\\employee_survey.csv\")\n",
    "df.drop(columns=['EmpID'], inplace=True)\n",
    "\n",
    "ordinal_features = ['EduLevel', 'JobLevel']\n",
    "nominal_features = ['Gender', 'MaritalStatus', 'Dept', 'EmpType', 'CommuteMode']\n",
    "\n",
    "edu_levels = ['High School', 'Bachelor', 'Master', 'PhD']\n",
    "job_levels = ['Intern/Fresher', 'Junior', 'Mid', 'Senior', 'Lead']\n",
    "ordinal_mappings = [edu_levels, job_levels]\n",
    "\n",
    "ordinal_encoder = OrdinalEncoder(categories=ordinal_mappings)\n",
    "df[ordinal_features] = ordinal_encoder.fit_transform(df[ordinal_features])\n",
    "df = pd.get_dummies(df, columns=nominal_features, drop_first=True)\n",
    "bool_cols = [i for i in df.columns if df[i].dtype == 'bool']\n",
    "df[bool_cols] = df[bool_cols].astype(int)"
   ]
  },
  {
   "cell_type": "code",
   "execution_count": 88,
   "metadata": {},
   "outputs": [],
   "source": [
    "X = df.drop(columns=['JobSatisfaction'])\n",
    "y = df['JobSatisfaction']\n",
    "\n",
    "# Split data\n",
    "X_train, X_test, y_train, y_test = train_test_split(X, y, test_size=0.2, stratify=y, random_state=42)"
   ]
  },
  {
   "cell_type": "code",
   "execution_count": 89,
   "metadata": {},
   "outputs": [],
   "source": [
    "def lasso_feature_selection(X_train_fs, y_train_fs, alpha=0.2):\n",
    "    lasso = Lasso(alpha=alpha)\n",
    "    lasso.fit(X_train_fs, y_train_fs)\n",
    "    coefficients = lasso.coef_\n",
    "    feature_importance = pd.DataFrame({'Feature': X.columns, 'Coefficient': coefficients})\n",
    "    feature_importance['Absolute Coefficient'] = abs(feature_importance['Coefficient'])\n",
    "    feature_importance = feature_importance.sort_values(by='Absolute Coefficient', ascending=False)\n",
    "    best_features = feature_importance.loc[feature_importance['Absolute Coefficient'] > 0]['Feature'].tolist()\n",
    "    print(feature_importance)\n",
    "    return best_features"
   ]
  },
  {
   "cell_type": "code",
   "execution_count": 90,
   "metadata": {},
   "outputs": [
    {
     "name": "stdout",
     "output_type": "stream",
     "text": [
      "                         Feature  Coefficient  Absolute Coefficient\n",
      "3                            WLB     0.136219              0.136219\n",
      "6                       Workload    -0.126330              0.126330\n",
      "4                        WorkEnv     0.124710              0.124710\n",
      "7                         Stress    -0.086818              0.086818\n",
      "8                     SleepHours     0.017716              0.017716\n",
      "0                            Age    -0.001341              0.001341\n",
      "27                    Dept_Sales     0.000000              0.000000\n",
      "22                       Dept_HR     0.000000              0.000000\n",
      "23                       Dept_IT    -0.000000              0.000000\n",
      "24                    Dept_Legal    -0.000000              0.000000\n",
      "25                Dept_Marketing    -0.000000              0.000000\n",
      "26               Dept_Operations     0.000000              0.000000\n",
      "30               CommuteMode_Car     0.000000              0.000000\n",
      "28             EmpType_Full-Time     0.000000              0.000000\n",
      "29             EmpType_Part-Time    -0.000000              0.000000\n",
      "20         MaritalStatus_Widowed     0.000000              0.000000\n",
      "31         CommuteMode_Motorbike     0.000000              0.000000\n",
      "32  CommuteMode_Public Transport    -0.000000              0.000000\n",
      "21                  Dept_Finance     0.000000              0.000000\n",
      "17                  Gender_Other     0.000000              0.000000\n",
      "19          MaritalStatus_Single     0.000000              0.000000\n",
      "18         MaritalStatus_Married    -0.000000              0.000000\n",
      "1                       JobLevel    -0.000000              0.000000\n",
      "16                   Gender_Male    -0.000000              0.000000\n",
      "15          TrainingHoursPerYear    -0.000000              0.000000\n",
      "14                        haveOT    -0.000000              0.000000\n",
      "13                      EduLevel     0.000000              0.000000\n",
      "12                    NumReports    -0.000000              0.000000\n",
      "11                      TeamSize     0.000000              0.000000\n",
      "10                  NumCompanies    -0.000000              0.000000\n",
      "9                CommuteDistance     0.000000              0.000000\n",
      "5          PhysicalActivityHours    -0.000000              0.000000\n",
      "2                     Experience    -0.000000              0.000000\n",
      "33              CommuteMode_Walk     0.000000              0.000000\n"
     ]
    }
   ],
   "source": [
    "best_features = lasso_feature_selection(X_train, y_train)\n",
    "X_lasso = df[best_features]\n",
    "X_train_lasso, X_test_lasso, y_train_lasso, y_test_lasso = train_test_split(X_lasso, y, test_size=0.2, stratify=y, random_state=42)"
   ]
  },
  {
   "cell_type": "code",
   "execution_count": 91,
   "metadata": {},
   "outputs": [],
   "source": [
    "scaler = StandardScaler()\n",
    "\n",
    "# Scale Original Training and Test data\n",
    "X_train_scaled = scaler.fit_transform(X_train)\n",
    "X_test_scaled = scaler.transform(X_test)\n",
    "\n",
    "# Scale Lasso Training and Test Data\n",
    "X_train_lasso_scaled = scaler.fit_transform(X_train_lasso)\n",
    "X_test_lasso_scaled = scaler.transform(X_test_lasso)"
   ]
  },
  {
   "cell_type": "code",
   "execution_count": 92,
   "metadata": {},
   "outputs": [],
   "source": [
    "# Hyperparameter tuning function\n",
    "def tune_and_evaluate(X_tr, y_tr, X_te, y_te, title):\n",
    "    param_grid = {\n",
    "    'n_neighbors': [3, 5, 24, 30],\n",
    "    'weights': ['uniform', 'distance'],\n",
    "    'metric': ['euclidean', 'manhattan', 'minkowski']\n",
    "    }\n",
    "\n",
    "    print(f\"\\nTuning Hyperparameters for {title}...\")\n",
    "    grid_search = GridSearchCV(KNeighborsClassifier(), param_grid, cv=5, scoring='accuracy')\n",
    "    grid_search.fit(X_tr, y_tr)\n",
    "    print(f\"Best Parameters: {grid_search.best_params_}\")\n",
    "\n",
    "    model = KNeighborsClassifier(n_neighbors=grid_search.best_params_['n_neighbors'], weights=grid_search.best_params_['weights'], metric=grid_search.best_params_['metric'])\n",
    "    model.fit(X_tr, y_tr)\n",
    "    y_pr = model.predict(X_te)\n",
    "    acc = accuracy_score(y_te, y_pr)\n",
    "    print(f\"\\nAccuracy ({title}): {acc:.4f}\")\n",
    "    print(classification_report(y_te, y_pr, zero_division=0))"
   ]
  },
  {
   "cell_type": "code",
   "execution_count": 93,
   "metadata": {},
   "outputs": [
    {
     "name": "stdout",
     "output_type": "stream",
     "text": [
      "\n",
      "Tuning Hyperparameters for Original...\n",
      "Best Parameters: {'metric': 'manhattan', 'n_neighbors': 24, 'weights': 'uniform'}\n",
      "\n",
      "Accuracy (Original): 0.4529\n",
      "              precision    recall  f1-score   support\n",
      "\n",
      "           1       0.41      0.14      0.21        84\n",
      "           2       0.33      0.02      0.03        55\n",
      "           3       0.40      0.16      0.23       113\n",
      "           4       0.46      0.95      0.62       250\n",
      "           5       0.55      0.06      0.11       103\n",
      "\n",
      "    accuracy                           0.45       605\n",
      "   macro avg       0.43      0.27      0.24       605\n",
      "weighted avg       0.44      0.45      0.35       605\n",
      "\n",
      "\n",
      "Tuning Hyperparameters for Lasso...\n",
      "Best Parameters: {'metric': 'euclidean', 'n_neighbors': 30, 'weights': 'uniform'}\n",
      "\n",
      "Accuracy (Lasso): 0.5174\n",
      "              precision    recall  f1-score   support\n",
      "\n",
      "           1       0.52      0.54      0.53        84\n",
      "           2       0.00      0.00      0.00        55\n",
      "           3       0.37      0.16      0.22       113\n",
      "           4       0.53      0.91      0.67       250\n",
      "           5       0.54      0.21      0.31       103\n",
      "\n",
      "    accuracy                           0.52       605\n",
      "   macro avg       0.39      0.36      0.35       605\n",
      "weighted avg       0.45      0.52      0.45       605\n",
      "\n",
      "['WLB', 'Workload', 'WorkEnv', 'Stress', 'SleepHours', 'Age']\n"
     ]
    }
   ],
   "source": [
    "# Evaluate models\n",
    "tune_and_evaluate(X_train_scaled, y_train, X_test_scaled, y_test, \"Original\")\n",
    "tune_and_evaluate(X_train_lasso_scaled, y_train_lasso, X_test_lasso_scaled, y_test_lasso, \"Lasso\")\n",
    "print(best_features)"
   ]
  }
 ],
 "metadata": {
  "kernelspec": {
   "display_name": "Python 3",
   "language": "python",
   "name": "python3"
  },
  "language_info": {
   "codemirror_mode": {
    "name": "ipython",
    "version": 3
   },
   "file_extension": ".py",
   "mimetype": "text/x-python",
   "name": "python",
   "nbconvert_exporter": "python",
   "pygments_lexer": "ipython3",
   "version": "3.11.9"
  }
 },
 "nbformat": 4,
 "nbformat_minor": 2
}
