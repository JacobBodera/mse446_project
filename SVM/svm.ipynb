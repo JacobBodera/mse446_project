{
 "cells": [
  {
   "cell_type": "code",
   "execution_count": 1,
   "metadata": {},
   "outputs": [],
   "source": [
    "# Importing Necessary Libraries\n",
    "import pandas as pd\n",
    "from sklearn.linear_model import Lasso, LassoCV\n",
    "from sklearn.model_selection import train_test_split, GridSearchCV\n",
    "from sklearn.preprocessing import OrdinalEncoder, StandardScaler\n",
    "from sklearn.svm import SVC\n",
    "from sklearn.metrics import accuracy_score, classification_report, r2_score\n",
    "\n",
    "pd.set_option('display.max_columns', None)"
   ]
  },
  {
   "cell_type": "code",
   "execution_count": 2,
   "metadata": {},
   "outputs": [],
   "source": [
    "# Load data and preprocess\n",
    "df = pd.read_csv(\"..\\\\employee_survey.csv\")\n",
    "df.drop(columns=['EmpID'], inplace=True)\n",
    "\n",
    "ordinal_features = ['EduLevel', 'JobLevel']\n",
    "nominal_features = ['Gender', 'MaritalStatus', 'Dept', 'EmpType', 'CommuteMode']\n",
    "\n",
    "edu_levels = ['High School', 'Bachelor', 'Master', 'PhD']\n",
    "job_levels = ['Intern/Fresher', 'Junior', 'Mid', 'Senior', 'Lead']\n",
    "ordinal_mappings = [edu_levels, job_levels]\n",
    "\n",
    "ordinal_encoder = OrdinalEncoder(categories=ordinal_mappings)\n",
    "df[ordinal_features] = ordinal_encoder.fit_transform(df[ordinal_features])\n",
    "df = pd.get_dummies(df, columns=nominal_features, drop_first=True)\n",
    "bool_cols = [i for i in df.columns if df[i].dtype == 'bool']\n",
    "df[bool_cols] = df[bool_cols].astype(int)"
   ]
  },
  {
   "cell_type": "code",
   "execution_count": 3,
   "metadata": {},
   "outputs": [],
   "source": [
    "X = df.drop(columns=['JobSatisfaction'])\n",
    "y = df['JobSatisfaction']\n",
    "\n",
    "# Split data\n",
    "X_train, X_test, y_train, y_test = train_test_split(X, y, test_size=0.2, random_state=42)"
   ]
  },
  {
   "cell_type": "code",
   "execution_count": 4,
   "metadata": {},
   "outputs": [],
   "source": [
    "def lasso_feature_selection(X_train_fs, y_train_fs):\n",
    "    # Use LassoCV to find the optimal alpha for accuracy\n",
    "    lasso_cv = LassoCV(cv=5, random_state=42)\n",
    "    lasso_cv.fit(X_train, y_train)\n",
    "\n",
    "    # Get the best alpha\n",
    "    best_alpha = lasso_cv.alpha_\n",
    "\n",
    "    lasso = Lasso(alpha=best_alpha)\n",
    "    lasso.fit(X_train_fs, y_train_fs)\n",
    "    coefficients = lasso.coef_\n",
    "    feature_importance = pd.DataFrame({'Feature': X.columns, 'Coefficient': coefficients})\n",
    "    feature_importance['Absolute Coefficient'] = abs(feature_importance['Coefficient'])\n",
    "    feature_importance = feature_importance.sort_values(by='Absolute Coefficient', ascending=False)\n",
    "    best_features = feature_importance.loc[feature_importance['Absolute Coefficient'] > 0]['Feature'].tolist()\n",
    "    X_lasso = df[best_features]\n",
    "    X_train_lasso, X_test_lasso, y_train_lasso, y_test_lasso = train_test_split(X_lasso, y, test_size=0.2, random_state=42)\n",
    "    return feature_importance, X_train_lasso, X_test_lasso, y_train_lasso, y_test_lasso\n",
    "\n",
    "feature_importance, X_train_lasso, X_test_lasso, y_train_lasso, y_test_lasso = lasso_feature_selection(X_train, y_train)"
   ]
  },
  {
   "cell_type": "code",
   "execution_count": 5,
   "metadata": {},
   "outputs": [],
   "source": [
    "scaler = StandardScaler()\n",
    "\n",
    "# Scale Original Training and Test data\n",
    "X_train_scaled = scaler.fit_transform(X_train)\n",
    "X_test_scaled = scaler.transform(X_test)\n",
    "\n",
    "# Scale Lasso Training and Test Data\n",
    "X_train_lasso_scaled = scaler.fit_transform(X_train_lasso)\n",
    "X_test_lasso_scaled = scaler.transform(X_test_lasso)"
   ]
  },
  {
   "cell_type": "code",
   "execution_count": 6,
   "metadata": {},
   "outputs": [],
   "source": [
    "# Hyperparameter tuning function\n",
    "def tune_and_evaluate(X_tr, y_tr, X_te, y_te, title):\n",
    "    param_grid = {\n",
    "        'C': [0.001, 0.1, 1, 10, 100],\n",
    "        'gamma': ['scale', 100, 10, 1, 0.1, 0.01, 0.001],\n",
    "        'kernel': ['rbf']\n",
    "    }\n",
    "    print(f\"\\nTuning Hyperparameters for {title}...\")\n",
    "    grid_search = GridSearchCV(SVC(), param_grid, cv=5, scoring='accuracy')\n",
    "    grid_search.fit(X_tr, y_tr)\n",
    "    print(f\"Best Parameters: {grid_search.best_params_}\")\n",
    "\n",
    "    model = SVC(C=grid_search.best_params_['C'], gamma=grid_search.best_params_['gamma'], kernel=grid_search.best_params_['kernel'])\n",
    "    model.fit(X_tr, y_tr)\n",
    "    y_pr = model.predict(X_te)\n",
    "    acc = accuracy_score(y_te, y_pr)\n",
    "    r2 = r2_score(y_te, y_pr)\n",
    "    print(f\"\\nAccuracy ({title}): {acc:.4f}\")\n",
    "    print(f\"\\nR2 ({title}): {r2:.4f}\")\n",
    "    print(classification_report(y_te, y_pr))"
   ]
  },
  {
   "cell_type": "code",
   "execution_count": 7,
   "metadata": {},
   "outputs": [
    {
     "name": "stdout",
     "output_type": "stream",
     "text": [
      "\n",
      "Tuning Hyperparameters for Original...\n",
      "Best Parameters: {'C': 10, 'gamma': 0.001, 'kernel': 'rbf'}\n",
      "\n",
      "Accuracy (Original): 0.5223\n",
      "\n",
      "R2 (Original): 0.0836\n",
      "              precision    recall  f1-score   support\n",
      "\n",
      "           1       0.51      0.51      0.51        94\n",
      "           2       0.00      0.00      0.00        51\n",
      "           3       0.28      0.27      0.28       102\n",
      "           4       0.58      0.94      0.72       254\n",
      "           5       0.00      0.00      0.00       104\n",
      "\n",
      "    accuracy                           0.52       605\n",
      "   macro avg       0.27      0.35      0.30       605\n",
      "weighted avg       0.37      0.52      0.43       605\n",
      "\n",
      "\n",
      "Tuning Hyperparameters for Lasso...\n"
     ]
    },
    {
     "name": "stderr",
     "output_type": "stream",
     "text": [
      "C:\\Users\\russe\\AppData\\Local\\Packages\\PythonSoftwareFoundation.Python.3.13_qbz5n2kfra8p0\\LocalCache\\local-packages\\Python313\\site-packages\\sklearn\\metrics\\_classification.py:1565: UndefinedMetricWarning: Precision is ill-defined and being set to 0.0 in labels with no predicted samples. Use `zero_division` parameter to control this behavior.\n",
      "  _warn_prf(average, modifier, f\"{metric.capitalize()} is\", len(result))\n",
      "C:\\Users\\russe\\AppData\\Local\\Packages\\PythonSoftwareFoundation.Python.3.13_qbz5n2kfra8p0\\LocalCache\\local-packages\\Python313\\site-packages\\sklearn\\metrics\\_classification.py:1565: UndefinedMetricWarning: Precision is ill-defined and being set to 0.0 in labels with no predicted samples. Use `zero_division` parameter to control this behavior.\n",
      "  _warn_prf(average, modifier, f\"{metric.capitalize()} is\", len(result))\n",
      "C:\\Users\\russe\\AppData\\Local\\Packages\\PythonSoftwareFoundation.Python.3.13_qbz5n2kfra8p0\\LocalCache\\local-packages\\Python313\\site-packages\\sklearn\\metrics\\_classification.py:1565: UndefinedMetricWarning: Precision is ill-defined and being set to 0.0 in labels with no predicted samples. Use `zero_division` parameter to control this behavior.\n",
      "  _warn_prf(average, modifier, f\"{metric.capitalize()} is\", len(result))\n"
     ]
    },
    {
     "name": "stdout",
     "output_type": "stream",
     "text": [
      "Best Parameters: {'C': 10, 'gamma': 0.01, 'kernel': 'rbf'}\n",
      "\n",
      "Accuracy (Lasso): 0.5636\n",
      "\n",
      "R2 (Lasso): 0.1112\n",
      "              precision    recall  f1-score   support\n",
      "\n",
      "           1       0.53      0.68      0.60        94\n",
      "           2       0.00      0.00      0.00        51\n",
      "           3       0.39      0.22      0.28       102\n",
      "           4       0.59      0.96      0.73       254\n",
      "           5       0.80      0.12      0.20       104\n",
      "\n",
      "    accuracy                           0.56       605\n",
      "   macro avg       0.46      0.39      0.36       605\n",
      "weighted avg       0.53      0.56      0.48       605\n",
      "\n",
      "                         Feature  Coefficient  Absolute Coefficient\n",
      "14                        haveOT    -0.348948              0.348948\n",
      "7                         Stress    -0.248787              0.248787\n",
      "4                        WorkEnv     0.232809              0.232809\n",
      "3                            WLB     0.220164              0.220164\n",
      "6                       Workload    -0.219188              0.219188\n",
      "8                     SleepHours     0.214642              0.214642\n",
      "18         MaritalStatus_Married    -0.088329              0.088329\n",
      "28             EmpType_Full-Time     0.038907              0.038907\n",
      "32  CommuteMode_Public Transport    -0.032593              0.032593\n",
      "30               CommuteMode_Car     0.013188              0.013188\n",
      "12                    NumReports    -0.009738              0.009738\n",
      "5          PhysicalActivityHours    -0.006237              0.006237\n",
      "15          TrainingHoursPerYear     0.005661              0.005661\n",
      "2                     Experience    -0.004545              0.004545\n",
      "0                            Age    -0.002364              0.002364\n",
      "11                      TeamSize     0.002166              0.002166\n",
      "1                       JobLevel     0.000000              0.000000\n",
      "9                CommuteDistance    -0.000000              0.000000\n",
      "17                  Gender_Other    -0.000000              0.000000\n",
      "16                   Gender_Male    -0.000000              0.000000\n",
      "10                  NumCompanies     0.000000              0.000000\n",
      "13                      EduLevel     0.000000              0.000000\n",
      "22                       Dept_HR    -0.000000              0.000000\n",
      "19          MaritalStatus_Single     0.000000              0.000000\n",
      "20         MaritalStatus_Widowed     0.000000              0.000000\n",
      "21                  Dept_Finance     0.000000              0.000000\n",
      "25                Dept_Marketing    -0.000000              0.000000\n",
      "24                    Dept_Legal    -0.000000              0.000000\n",
      "23                       Dept_IT     0.000000              0.000000\n",
      "26               Dept_Operations     0.000000              0.000000\n",
      "29             EmpType_Part-Time    -0.000000              0.000000\n",
      "27                    Dept_Sales     0.000000              0.000000\n",
      "31         CommuteMode_Motorbike     0.000000              0.000000\n",
      "33              CommuteMode_Walk    -0.000000              0.000000\n"
     ]
    },
    {
     "name": "stderr",
     "output_type": "stream",
     "text": [
      "C:\\Users\\russe\\AppData\\Local\\Packages\\PythonSoftwareFoundation.Python.3.13_qbz5n2kfra8p0\\LocalCache\\local-packages\\Python313\\site-packages\\sklearn\\metrics\\_classification.py:1565: UndefinedMetricWarning: Precision is ill-defined and being set to 0.0 in labels with no predicted samples. Use `zero_division` parameter to control this behavior.\n",
      "  _warn_prf(average, modifier, f\"{metric.capitalize()} is\", len(result))\n",
      "C:\\Users\\russe\\AppData\\Local\\Packages\\PythonSoftwareFoundation.Python.3.13_qbz5n2kfra8p0\\LocalCache\\local-packages\\Python313\\site-packages\\sklearn\\metrics\\_classification.py:1565: UndefinedMetricWarning: Precision is ill-defined and being set to 0.0 in labels with no predicted samples. Use `zero_division` parameter to control this behavior.\n",
      "  _warn_prf(average, modifier, f\"{metric.capitalize()} is\", len(result))\n",
      "C:\\Users\\russe\\AppData\\Local\\Packages\\PythonSoftwareFoundation.Python.3.13_qbz5n2kfra8p0\\LocalCache\\local-packages\\Python313\\site-packages\\sklearn\\metrics\\_classification.py:1565: UndefinedMetricWarning: Precision is ill-defined and being set to 0.0 in labels with no predicted samples. Use `zero_division` parameter to control this behavior.\n",
      "  _warn_prf(average, modifier, f\"{metric.capitalize()} is\", len(result))\n"
     ]
    }
   ],
   "source": [
    "# Evaluate models\n",
    "tune_and_evaluate(X_train_scaled, y_train, X_test_scaled, y_test, \"Original\")\n",
    "tune_and_evaluate(X_train_lasso_scaled, y_train_lasso, X_test_lasso_scaled, y_test_lasso, \"Lasso\")\n",
    "print(feature_importance)"
   ]
  }
 ],
 "metadata": {
  "kernelspec": {
   "display_name": "Python 3",
   "language": "python",
   "name": "python3"
  },
  "language_info": {
   "codemirror_mode": {
    "name": "ipython",
    "version": 3
   },
   "file_extension": ".py",
   "mimetype": "text/x-python",
   "name": "python",
   "nbconvert_exporter": "python",
   "pygments_lexer": "ipython3",
   "version": "3.13.2"
  }
 },
 "nbformat": 4,
 "nbformat_minor": 2
}
