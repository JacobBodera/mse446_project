{
 "cells": [
  {
   "cell_type": "code",
   "execution_count": null,
   "metadata": {},
   "outputs": [],
   "source": [
    "# Importing Necessary Libraries\n",
    "import pandas as pd\n",
    "from sklearn.linear_model import Lasso, LassoCV\n",
    "from sklearn.model_selection import train_test_split, GridSearchCV, StratifiedKFold\n",
    "from sklearn.preprocessing import OrdinalEncoder, StandardScaler\n",
    "from sklearn.svm import SVC\n",
    "from sklearn.metrics import accuracy_score, classification_report\n",
    "\n",
    "pd.set_option('display.max_columns', None)"
   ]
  },
  {
   "cell_type": "code",
   "execution_count": 2,
   "metadata": {},
   "outputs": [],
   "source": [
    "# Load data and preprocess\n",
    "df = pd.read_csv(\"..\\\\employee_survey.csv\")\n",
    "df.drop(columns=['EmpID'], inplace=True)\n",
    "\n",
    "ordinal_features = ['EduLevel', 'JobLevel']\n",
    "nominal_features = ['Gender', 'MaritalStatus', 'Dept', 'EmpType', 'CommuteMode']\n",
    "\n",
    "edu_levels = ['High School', 'Bachelor', 'Master', 'PhD']\n",
    "job_levels = ['Intern/Fresher', 'Junior', 'Mid', 'Senior', 'Lead']\n",
    "ordinal_mappings = [edu_levels, job_levels]\n",
    "\n",
    "ordinal_encoder = OrdinalEncoder(categories=ordinal_mappings)\n",
    "df[ordinal_features] = ordinal_encoder.fit_transform(df[ordinal_features])\n",
    "df = pd.get_dummies(df, columns=nominal_features, drop_first=True)\n",
    "bool_cols = [i for i in df.columns if df[i].dtype == 'bool']\n",
    "df[bool_cols] = df[bool_cols].astype(int)"
   ]
  },
  {
   "cell_type": "code",
   "execution_count": 3,
   "metadata": {},
   "outputs": [],
   "source": [
    "X = df.drop(columns=['JobSatisfaction'])\n",
    "y = df['JobSatisfaction']\n",
    "\n",
    "# Split data\n",
    "X_train, X_test, y_train, y_test = train_test_split(X, y, test_size=0.2, stratify=y, random_state=42)"
   ]
  },
  {
   "cell_type": "code",
   "execution_count": null,
   "metadata": {},
   "outputs": [],
   "source": [
    "def lasso_feature_selection(X_train_fs, y_train_fs):\n",
    "    # Use LassoCV to find the optimal alpha for accuracy\n",
    "    lasso_cv = LassoCV(cv=5, random_state=42)\n",
    "    lasso_cv.fit(X_train, y_train)\n",
    "    \n",
    "    # Get the best alpha\n",
    "    best_alpha = lasso_cv.alpha_\n",
    "\n",
    "    lasso = Lasso(alpha=best_alpha)\n",
    "    lasso.fit(X_train_fs, y_train_fs)\n",
    "    coefficients = lasso.coef_\n",
    "    feature_importance = pd.DataFrame({'Feature': X.columns, 'Coefficient': coefficients})\n",
    "    feature_importance['Absolute Coefficient'] = abs(feature_importance['Coefficient'])\n",
    "    feature_importance = feature_importance.sort_values(by='Absolute Coefficient', ascending=False)\n",
    "    best_features = feature_importance.loc[feature_importance['Absolute Coefficient'] > 0]['Feature'].tolist()\n",
    "    print(feature_importance)\n",
    "    return best_features"
   ]
  },
  {
   "cell_type": "code",
   "execution_count": 5,
   "metadata": {},
   "outputs": [
    {
     "name": "stdout",
     "output_type": "stream",
     "text": [
      "                         Feature  Coefficient  Absolute Coefficient\n",
      "3                            WLB     0.160960              0.160960\n",
      "6                       Workload    -0.153053              0.153053\n",
      "4                        WorkEnv     0.150285              0.150285\n",
      "7                         Stress    -0.131996              0.131996\n",
      "8                     SleepHours     0.071275              0.071275\n",
      "0                            Age    -0.001900              0.001900\n",
      "1                       JobLevel     0.000000              0.000000\n",
      "2                     Experience    -0.000000              0.000000\n",
      "5          PhysicalActivityHours    -0.000000              0.000000\n",
      "9                CommuteDistance     0.000000              0.000000\n",
      "10                  NumCompanies    -0.000000              0.000000\n",
      "11                      TeamSize     0.000000              0.000000\n",
      "12                    NumReports    -0.000000              0.000000\n",
      "13                      EduLevel     0.000000              0.000000\n",
      "14                        haveOT    -0.000000              0.000000\n",
      "15          TrainingHoursPerYear    -0.000000              0.000000\n",
      "16                   Gender_Male    -0.000000              0.000000\n",
      "17                  Gender_Other     0.000000              0.000000\n",
      "18         MaritalStatus_Married    -0.000000              0.000000\n",
      "19          MaritalStatus_Single     0.000000              0.000000\n",
      "20         MaritalStatus_Widowed     0.000000              0.000000\n",
      "21                  Dept_Finance     0.000000              0.000000\n",
      "22                       Dept_HR     0.000000              0.000000\n",
      "23                       Dept_IT    -0.000000              0.000000\n",
      "24                    Dept_Legal    -0.000000              0.000000\n",
      "25                Dept_Marketing    -0.000000              0.000000\n",
      "26               Dept_Operations     0.000000              0.000000\n",
      "27                    Dept_Sales     0.000000              0.000000\n",
      "28             EmpType_Full-Time     0.000000              0.000000\n",
      "29             EmpType_Part-Time    -0.000000              0.000000\n",
      "30               CommuteMode_Car     0.000000              0.000000\n",
      "31         CommuteMode_Motorbike     0.000000              0.000000\n",
      "32  CommuteMode_Public Transport    -0.000000              0.000000\n",
      "33              CommuteMode_Walk     0.000000              0.000000\n"
     ]
    }
   ],
   "source": [
    "best_features = lasso_feature_selection(X_train, y_train)\n",
    "X_lasso = df[best_features]\n",
    "X_train_lasso, X_test_lasso, y_train_lasso, y_test_lasso = train_test_split(X_lasso, y, test_size=0.2, stratify=y, random_state=42)"
   ]
  },
  {
   "cell_type": "code",
   "execution_count": 6,
   "metadata": {},
   "outputs": [],
   "source": [
    "scaler = StandardScaler()\n",
    "\n",
    "# Scale Original Training and Test data\n",
    "X_train_scaled = scaler.fit_transform(X_train)\n",
    "X_test_scaled = scaler.transform(X_test)\n",
    "\n",
    "# Scale Lasso Training and Test Data\n",
    "X_train_lasso_scaled = scaler.fit_transform(X_train_lasso)\n",
    "X_test_lasso_scaled = scaler.transform(X_test_lasso)"
   ]
  },
  {
   "cell_type": "code",
   "execution_count": 7,
   "metadata": {},
   "outputs": [],
   "source": [
    "# Hyperparameter tuning function\n",
    "def tune_and_evaluate(X_tr, y_tr, X_te, y_te, title):\n",
    "    param_grid = {\n",
    "        'C': [0.001, 0.1, 1, 10, 100],\n",
    "        'gamma': ['scale', 100, 10, 1, 0.1, 0.01, 0.001],\n",
    "        'kernel': ['rbf']\n",
    "    }\n",
    "    print(f\"\\nTuning Hyperparameters for {title}...\")\n",
    "    grid_search = GridSearchCV(SVC(), param_grid, cv=StratifiedKFold(5), scoring='accuracy')\n",
    "    grid_search.fit(X_tr, y_tr)\n",
    "    print(f\"Best Parameters: {grid_search.best_params_}\")\n",
    "\n",
    "    model = SVC(C=grid_search.best_params_['C'], gamma=grid_search.best_params_['gamma'], kernel=grid_search.best_params_['kernel'])\n",
    "    model.fit(X_tr, y_tr)\n",
    "    y_pr = model.predict(X_te)\n",
    "    acc = accuracy_score(y_te, y_pr)\n",
    "    print(f\"\\nAccuracy ({title}): {acc:.4f}\")\n",
    "    print(classification_report(y_te, y_pr, zero_division=0))"
   ]
  },
  {
   "cell_type": "code",
   "execution_count": 8,
   "metadata": {},
   "outputs": [
    {
     "name": "stdout",
     "output_type": "stream",
     "text": [
      "\n",
      "Tuning Hyperparameters for Original...\n",
      "Best Parameters: {'C': 100, 'gamma': 0.001, 'kernel': 'rbf'}\n",
      "\n",
      "Accuracy (Original): 0.5107\n",
      "              precision    recall  f1-score   support\n",
      "\n",
      "           1       0.52      0.68      0.59        84\n",
      "           2       0.00      0.00      0.00        55\n",
      "           3       0.27      0.15      0.19       113\n",
      "           4       0.55      0.94      0.69       250\n",
      "           5       0.00      0.00      0.00       103\n",
      "\n",
      "    accuracy                           0.51       605\n",
      "   macro avg       0.27      0.35      0.29       605\n",
      "weighted avg       0.35      0.51      0.40       605\n",
      "\n",
      "\n",
      "Tuning Hyperparameters for Lasso...\n",
      "Best Parameters: {'C': 100, 'gamma': 0.01, 'kernel': 'rbf'}\n",
      "\n",
      "Accuracy (Lasso): 0.5455\n",
      "              precision    recall  f1-score   support\n",
      "\n",
      "           1       0.50      0.73      0.60        84\n",
      "           2       0.00      0.00      0.00        55\n",
      "           3       0.35      0.07      0.12       113\n",
      "           4       0.55      0.94      0.70       250\n",
      "           5       0.69      0.26      0.38       103\n",
      "\n",
      "    accuracy                           0.55       605\n",
      "   macro avg       0.42      0.40      0.36       605\n",
      "weighted avg       0.48      0.55      0.46       605\n",
      "\n",
      "['WLB', 'Workload', 'WorkEnv', 'Stress', 'SleepHours', 'Age']\n"
     ]
    }
   ],
   "source": [
    "# Evaluate models\n",
    "tune_and_evaluate(X_train_scaled, y_train, X_test_scaled, y_test, \"Original\")\n",
    "tune_and_evaluate(X_train_lasso_scaled, y_train_lasso, X_test_lasso_scaled, y_test_lasso, \"Lasso\")\n",
    "print(best_features)"
   ]
  }
 ],
 "metadata": {
  "kernelspec": {
   "display_name": "Python 3",
   "language": "python",
   "name": "python3"
  },
  "language_info": {
   "codemirror_mode": {
    "name": "ipython",
    "version": 3
   },
   "file_extension": ".py",
   "mimetype": "text/x-python",
   "name": "python",
   "nbconvert_exporter": "python",
   "pygments_lexer": "ipython3",
   "version": "3.13.2"
  }
 },
 "nbformat": 4,
 "nbformat_minor": 2
}
